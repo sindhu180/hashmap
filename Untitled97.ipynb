{
  "nbformat": 4,
  "nbformat_minor": 0,
  "metadata": {
    "colab": {
      "name": "Untitled97.ipynb",
      "provenance": [],
      "include_colab_link": true
    },
    "kernelspec": {
      "name": "python3",
      "display_name": "Python 3"
    },
    "language_info": {
      "name": "python"
    }
  },
  "cells": [
    {
      "cell_type": "markdown",
      "metadata": {
        "id": "view-in-github",
        "colab_type": "text"
      },
      "source": [
        "<a href=\"https://colab.research.google.com/github/sindhu180/hashmap/blob/main/Untitled97.ipynb\" target=\"_parent\"><img src=\"https://colab.research.google.com/assets/colab-badge.svg\" alt=\"Open In Colab\"/></a>"
      ]
    },
    {
      "cell_type": "markdown",
      "source": [
        "#Que8\n",
        "8.Write a Python program to combine two dictionary adding values for common keys.\n",
        "\n",
        "                   d1 = {'a': 100, 'b': 200, 'c':300}\n",
        "                   d2 = {'a': 300, 'b': 200, 'd':400}\n",
        "                   output= {'a': 400, 'b': 400, 'd': 400, 'c': 300}\n"
      ],
      "metadata": {
        "id": "ZiYGuacQ586F"
      }
    },
    {
      "cell_type": "code",
      "source": [
        "d1 = {'a': 100, 'b': 200, 'c':300}\n",
        "d2 = {'a': 300, 'b': 200, 'd':400}\n",
        "final_dict =  {x: d1.get(x, 0) + d2.get(x, 0) for x in set(d1).union(d2)}\n",
        "print (str(final_dict))"
      ],
      "metadata": {
        "colab": {
          "base_uri": "https://localhost:8080/"
        },
        "id": "qSWqCxHz6DPU",
        "outputId": "3f50e693-2334-45fe-be26-45137886dab1"
      },
      "execution_count": null,
      "outputs": [
        {
          "output_type": "stream",
          "name": "stdout",
          "text": [
            "{'b': 400, 'c': 300, 'a': 400, 'd': 400}\n"
          ]
        }
      ]
    },
    {
      "cell_type": "markdown",
      "source": [
        "7.Write a Python program to check the validity of password input by users. It should validate the password with given below conditions.\n",
        "\n",
        "          *At least 1 letter between [a-z] and 1 letter between [A-Z].\n",
        "          *At least 1 number between [0-9].\n",
        "          *At least 1 special character [!\"#$%&'()*+,-./:;<=>?@[\\]^_`{|}~].\n",
        "          *Minimum length 6 characters.\n",
        "          *Maximum length 16 characters."
      ],
      "metadata": {
        "id": "qZ5OQuof-M3Q"
      }
    },
    {
      "cell_type": "code",
      "source": [
        "l, u, p, d = 0, 0, 0, 0\n",
        "s = input()\n",
        "if (len(s) >= 8):\n",
        "    for i in s: \n",
        "        if (i.islower()):\n",
        "            l+=1            \n",
        "        if (i.isupper()):\n",
        "            u+=1            \n",
        "        if (i.isdigit()):\n",
        "            d+=1            \n",
        "        if(i=='@'or i=='$' or i=='_'):\n",
        "            p+=1           \n",
        "if (l>=1 and u>=1 and p>=1 and d>=1 and l+p+u+d==len(s)):\n",
        "    print(\"Valid Password\")\n",
        "else:\n",
        "    print(\"Invalid Password\")"
      ],
      "metadata": {
        "colab": {
          "base_uri": "https://localhost:8080/"
        },
        "id": "dzbqTpYB-N4N",
        "outputId": "2a489ad9-3ce0-4c9c-aa07-37f1cd878ce6"
      },
      "execution_count": null,
      "outputs": [
        {
          "output_type": "stream",
          "name": "stdout",
          "text": [
            "Hello@123\n",
            "Valid Password\n"
          ]
        }
      ]
    },
    {
      "cell_type": "markdown",
      "source": [
        "6.Write a python program to convert a list of dictionaries which may contain duplicate dictonaries into a list containing unique dictionaries.\n",
        "\n",
        "  Example - Input\n",
        "            dict_list=[{'name': 'affirm', 'confidence': 0.9448149204254}, {'name': 'affirm', 'confidence': 0.944814920425415}, {'name': 'inform', 'confidence': 0.9842240810394287}, {'name': 'inform', 'confidence': 0.9842240810394287}]\n",
        "\n",
        "            output=[{'name': 'affirm', 'confidence': 0.9448149204254}, {'name': 'affirm', 'confidence': 0.944814920425415}, {'name': 'inform', 'confidence': 0.9842240810394287}]"
      ],
      "metadata": {
        "id": "wJ1aZO-c_9Ke"
      }
    },
    {
      "cell_type": "code",
      "source": [
        "dict_list=[{'name': 'affirm', 'confidence': 0.9448149204254}, {'name': 'affirm', 'confidence': 0.944814920425415}, {'name': 'inform', 'confidence': 0.9842240810394287}, {'name': 'inform', 'confidence': 0.9842240810394287}]\n",
        "list({v['confidence']:v for v in dict_list}.values())"
      ],
      "metadata": {
        "colab": {
          "base_uri": "https://localhost:8080/"
        },
        "id": "pHeRzbZP_95I",
        "outputId": "bbb2292d-ac73-4a08-bd5e-10e84c37d57e"
      },
      "execution_count": null,
      "outputs": [
        {
          "output_type": "execute_result",
          "data": {
            "text/plain": [
              "[{'confidence': 0.9448149204254, 'name': 'affirm'},\n",
              " {'confidence': 0.944814920425415, 'name': 'affirm'},\n",
              " {'confidence': 0.9842240810394287, 'name': 'inform'}]"
            ]
          },
          "metadata": {},
          "execution_count": 19
        }
      ]
    }
  ]
}